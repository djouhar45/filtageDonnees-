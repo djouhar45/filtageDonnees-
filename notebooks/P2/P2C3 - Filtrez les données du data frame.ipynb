{
  "cells": [
    {
      "cell_type": "markdown",
      "metadata": {
        "id": "view-in-github",
        "colab_type": "text"
      },
      "source": [
        "<a href=\"https://colab.research.google.com/github/djouhar45/filtageDonnees-/blob/main/notebooks/P2/P2C3%20-%20Filtrez%20les%20donn%C3%A9es%20du%20data%20frame.ipynb\" target=\"_parent\"><img src=\"https://colab.research.google.com/assets/colab-badge.svg\" alt=\"Open In Colab\"/></a>"
      ]
    },
    {
      "cell_type": "markdown",
      "id": "714ee608",
      "metadata": {
        "id": "714ee608"
      },
      "source": [
        "![openclassrooms](https://s3.eu-west-1.amazonaws.com/course.oc-static.com/courses/6204541/1+HnqdJ-5ofxiPP9HIxdNdpw.jpeg)\n",
        "\n",
        "# Filtrez les données du dataframe\n",
        "\n",
        "Nous allons à présent aller un peu plus loin dans la manipulation de nos prêts bancaires. Les demandes suivantes ont été formulées par le responsable du service prêt de notre établissement :\n",
        "- Le taux d’endettement autorisé est de 35%. Pourriez vous me communiquer le nombre de personnes ayant dépassé ce seuil ?\n",
        "- Même question, mais cette fois ci uniquement sur l’agence Parisienne\n",
        "- Pour faciliter le traitement d’éventuelles futures demandes de prêts, pourriez vous ajouter une variable nommée `risque` qui nous permettrait d’identifier les clients risqués facilement\n",
        "- Combien de prêts automobiles ont été accordés ? Quel est le coût total moyen de ces derniers ?\n",
        "- Quel est le bénéfice mensuel total réalisé par l’agence Toulousaine ?\n",
        "\n",
        "Vous allez devoir mettre en application l’ensemble des processus de sélection présentés ci-dessus pour répondre à ces différentes demandes."
      ]
    },
    {
      "cell_type": "code",
      "execution_count": null,
      "id": "e9d28824",
      "metadata": {
        "id": "e9d28824"
      },
      "outputs": [],
      "source": [
        "import numpy as np\n",
        "import pandas as pd"
      ]
    },
    {
      "cell_type": "code",
      "execution_count": null,
      "id": "ffe59c9b",
      "metadata": {
        "id": "ffe59c9b",
        "outputId": "cb1691ea-8652-4bce-c2e9-3dcf267b4ea8"
      },
      "outputs": [
        {
          "data": {
            "text/html": [
              "<div>\n",
              "<style scoped>\n",
              "    .dataframe tbody tr th:only-of-type {\n",
              "        vertical-align: middle;\n",
              "    }\n",
              "\n",
              "    .dataframe tbody tr th {\n",
              "        vertical-align: top;\n",
              "    }\n",
              "\n",
              "    .dataframe thead th {\n",
              "        text-align: right;\n",
              "    }\n",
              "</style>\n",
              "<table border=\"1\" class=\"dataframe\">\n",
              "  <thead>\n",
              "    <tr style=\"text-align: right;\">\n",
              "      <th></th>\n",
              "      <th>identifiant</th>\n",
              "      <th>ville</th>\n",
              "      <th>CP</th>\n",
              "      <th>revenu</th>\n",
              "      <th>remboursement</th>\n",
              "      <th>duree</th>\n",
              "      <th>type</th>\n",
              "      <th>taux_interet</th>\n",
              "      <th>taux_endettement</th>\n",
              "      <th>cout_total</th>\n",
              "      <th>benefices</th>\n",
              "    </tr>\n",
              "  </thead>\n",
              "  <tbody>\n",
              "    <tr>\n",
              "      <th>0</th>\n",
              "      <td>0</td>\n",
              "      <td>TOULOUSE</td>\n",
              "      <td>31100</td>\n",
              "      <td>3669.0</td>\n",
              "      <td>1130.05</td>\n",
              "      <td>240</td>\n",
              "      <td>immobilier</td>\n",
              "      <td>1.168</td>\n",
              "      <td>30.80</td>\n",
              "      <td>271212.0</td>\n",
              "      <td>131.99</td>\n",
              "    </tr>\n",
              "    <tr>\n",
              "      <th>1</th>\n",
              "      <td>1</td>\n",
              "      <td>PARIS</td>\n",
              "      <td>75009</td>\n",
              "      <td>5310.0</td>\n",
              "      <td>240.00</td>\n",
              "      <td>64</td>\n",
              "      <td>automobile</td>\n",
              "      <td>3.701</td>\n",
              "      <td>4.52</td>\n",
              "      <td>15360.0</td>\n",
              "      <td>23.69</td>\n",
              "    </tr>\n",
              "    <tr>\n",
              "      <th>2</th>\n",
              "      <td>1</td>\n",
              "      <td>PARIS</td>\n",
              "      <td>75009</td>\n",
              "      <td>5310.0</td>\n",
              "      <td>1247.85</td>\n",
              "      <td>300</td>\n",
              "      <td>immobilier</td>\n",
              "      <td>1.173</td>\n",
              "      <td>23.50</td>\n",
              "      <td>374355.0</td>\n",
              "      <td>182.97</td>\n",
              "    </tr>\n",
              "    <tr>\n",
              "      <th>3</th>\n",
              "      <td>2</td>\n",
              "      <td>MARSEILLE</td>\n",
              "      <td>13010</td>\n",
              "      <td>1873.0</td>\n",
              "      <td>552.54</td>\n",
              "      <td>240</td>\n",
              "      <td>immobilier</td>\n",
              "      <td>0.972</td>\n",
              "      <td>29.50</td>\n",
              "      <td>132609.6</td>\n",
              "      <td>53.71</td>\n",
              "    </tr>\n",
              "    <tr>\n",
              "      <th>4</th>\n",
              "      <td>3</td>\n",
              "      <td>MARSEILLE</td>\n",
              "      <td>13010</td>\n",
              "      <td>1684.0</td>\n",
              "      <td>586.03</td>\n",
              "      <td>180</td>\n",
              "      <td>immobilier</td>\n",
              "      <td>1.014</td>\n",
              "      <td>34.80</td>\n",
              "      <td>105485.4</td>\n",
              "      <td>44.57</td>\n",
              "    </tr>\n",
              "  </tbody>\n",
              "</table>\n",
              "</div>"
            ],
            "text/plain": [
              "   identifiant      ville     CP  revenu  remboursement  duree        type   \n",
              "0            0   TOULOUSE  31100  3669.0        1130.05    240  immobilier  \\\n",
              "1            1      PARIS  75009  5310.0         240.00     64  automobile   \n",
              "2            1      PARIS  75009  5310.0        1247.85    300  immobilier   \n",
              "3            2  MARSEILLE  13010  1873.0         552.54    240  immobilier   \n",
              "4            3  MARSEILLE  13010  1684.0         586.03    180  immobilier   \n",
              "\n",
              "   taux_interet  taux_endettement  cout_total  benefices  \n",
              "0         1.168             30.80    271212.0     131.99  \n",
              "1         3.701              4.52     15360.0      23.69  \n",
              "2         1.173             23.50    374355.0     182.97  \n",
              "3         0.972             29.50    132609.6      53.71  \n",
              "4         1.014             34.80    105485.4      44.57  "
            ]
          },
          "execution_count": 2,
          "metadata": {},
          "output_type": "execute_result"
        }
      ],
      "source": [
        "# traitement réalisés précédemment\n",
        "prets = pd.read_csv('https://raw.githubusercontent.com/OpenClassrooms-Student-Center/fr-4452741-decouvrez-les-librairies-python-pour-la-data-science/main/data/prets.csv')\n",
        "\n",
        "# calcul du taux d'endettement\n",
        "prets['taux_endettement'] = round(prets['remboursement'] * 100 / prets['revenu'], 2)\n",
        "\n",
        "# renommer taux en taux_interet\n",
        "prets.rename(columns={'taux':'taux_interet'}, inplace=True)\n",
        "\n",
        "# calculer le cout total du pret\n",
        "prets['cout_total'] = prets['remboursement'] * prets['duree']\n",
        "\n",
        "# calculer les bénéfices mensuels réalisés\n",
        "prets['benefices'] = round((prets['cout_total'] * prets['taux_interet']/100)/(24), 2)\n",
        "\n",
        "prets.head()"
      ]
    },
    {
      "cell_type": "markdown",
      "id": "48c3c183",
      "metadata": {
        "id": "48c3c183"
      },
      "source": [
        "Le taux d’endettement autorisé est de 35%. Pourriez vous me communiquer le nombre de personnes ayant dépassé ce seuil ? vous pourrez me stocker la liste dans une variable à part nommé `clients_risque`"
      ]
    },
    {
      "cell_type": "code",
      "execution_count": 13,
      "id": "d5726ae1",
      "metadata": {
        "scrolled": true,
        "id": "d5726ae1",
        "outputId": "4b96e9cd-9e3c-4011-b045-4e05042ff6bc",
        "colab": {
          "base_uri": "https://localhost:8080/"
        }
      },
      "outputs": [
        {
          "output_type": "stream",
          "name": "stdout",
          "text": [
            "le nombre de personnes ayant dépassé ce seuil est: 244\n"
          ]
        }
      ],
      "source": [
        "clients_risque = prets.loc[prets['taux_endettement'] > 0.35, 'identifiant']\n",
        "print(f\"le nombre de personnes ayant dépassé ce seuil est: {len(clients_risque)}\")"
      ]
    },
    {
      "cell_type": "markdown",
      "id": "28e19d74",
      "metadata": {
        "id": "28e19d74"
      },
      "source": [
        "Même question, mais cette fois ci uniquement sur l’agence Parisienne"
      ]
    },
    {
      "cell_type": "code",
      "execution_count": 15,
      "id": "55fe3c2b",
      "metadata": {
        "id": "55fe3c2b",
        "outputId": "23e8fc6a-4861-46c6-e3e5-d453a883e7f5",
        "colab": {
          "base_uri": "https://localhost:8080/"
        }
      },
      "outputs": [
        {
          "output_type": "stream",
          "name": "stdout",
          "text": [
            "le nombre de personnes ayant dépassé ce seuil  sur l'agence Parisienne est: 77\n"
          ]
        }
      ],
      "source": [
        "clients_risque = prets.loc[(prets['taux_endettement'] > 0.35) & (prets['ville'] == 'PARIS' ), 'identifiant']\n",
        "print(f\"le nombre de personnes ayant dépassé ce seuil  sur l'agence Parisienne est: {len(clients_risque)}\")"
      ]
    },
    {
      "cell_type": "markdown",
      "id": "59201dc0",
      "metadata": {
        "id": "59201dc0"
      },
      "source": [
        "Pour faciliter le traitement d’éventuelles futures demandes de prêts, pourriez vous ajouter une variable nommée `risque` qui aurait pour valeur `Oui` si le client est risqué (taux d’endettement > 35%), `Non` sinon.\n",
        "Pour se faire, je vous conseille de créer la variable `risque` en l'initialisant à `Non` (ou `Oui`, à votre préférence) et de ne modifier que les lignes concernées par la valeur inverse :"
      ]
    },
    {
      "cell_type": "code",
      "execution_count": 17,
      "id": "b0f38df1",
      "metadata": {
        "id": "b0f38df1"
      },
      "outputs": [],
      "source": [
        "prets['risque'] = 'Non'\n",
        "prets.loc[prets['taux_endettement'] > 0.35, 'risque'] = 'Oui'\n"
      ]
    },
    {
      "cell_type": "markdown",
      "id": "f168fe6a",
      "metadata": {
        "id": "f168fe6a"
      },
      "source": [
        "Combien de prêts automobiles ont été accordés ? Quel est le coût total moyen de ces derniers ?"
      ]
    },
    {
      "cell_type": "code",
      "execution_count": 20,
      "id": "9e790dc1",
      "metadata": {
        "id": "9e790dc1",
        "outputId": "db6e7792-33c0-4bf1-ffff-20ea9500cb02",
        "colab": {
          "base_uri": "https://localhost:8080/"
        }
      },
      "outputs": [
        {
          "output_type": "stream",
          "name": "stdout",
          "text": [
            "le nombre de prêts automobiles est: 16\n",
            "le coût total moyen de ces derniers est: 13665.0\n"
          ]
        }
      ],
      "source": [
        "accordé = prets.loc[prets['type'] == 'automobile', 'type']\n",
        "print(f\"le nombre de prêts automobiles est: {len(accordé)}\")\n",
        "cout_total = np.mean(prets.loc[prets['type'] == 'automobile', 'cout_total'])\n",
        "print(f\"le coût total moyen de ces derniers est: {cout_total}\")"
      ]
    },
    {
      "cell_type": "markdown",
      "id": "453a62e3",
      "metadata": {
        "id": "453a62e3"
      },
      "source": [
        "Quel est le bénéfice mensuel total réalisé par l’agence Toulousaine ?"
      ]
    },
    {
      "cell_type": "code",
      "execution_count": 21,
      "id": "b76b8a3e",
      "metadata": {
        "id": "b76b8a3e",
        "outputId": "d0ff3024-daac-40af-9b22-b73d6b83dde8",
        "colab": {
          "base_uri": "https://localhost:8080/"
        }
      },
      "outputs": [
        {
          "output_type": "stream",
          "name": "stdout",
          "text": [
            "Le bénéfice mensuel total de l'agence Toulousaine est : 2138.0699999999997\n"
          ]
        }
      ],
      "source": [
        "total_benefice = prets.loc[prets['ville'] == 'TOULOUSE', 'benefices'].sum()\n",
        "print(f\"Le bénéfice mensuel total de l'agence Toulousaine est : {total_benefice}\")\n"
      ]
    },
    {
      "cell_type": "markdown",
      "id": "518e9313",
      "metadata": {
        "id": "518e9313"
      },
      "source": [
        "Félicitation ! Je vous invite fortement à vérifier vos réponses avec [la correction ci contre](https://colab.research.google.com/github/OpenClassrooms-Student-Center/fr-4452741-decouvrez-les-librairies-python-pour-la-data-science/blob/main/notebooks/P2/P2C3%20-%20Filtrez%20les%20donn%C3%A9es%20du%20data%20frame%20-%20correction.ipynb)."
      ]
    },
    {
      "cell_type": "code",
      "execution_count": null,
      "id": "89cbbccb",
      "metadata": {
        "id": "89cbbccb"
      },
      "outputs": [],
      "source": []
    }
  ],
  "metadata": {
    "kernelspec": {
      "display_name": "Python 3 (ipykernel)",
      "language": "python",
      "name": "python3"
    },
    "language_info": {
      "codemirror_mode": {
        "name": "ipython",
        "version": 3
      },
      "file_extension": ".py",
      "mimetype": "text/x-python",
      "name": "python",
      "nbconvert_exporter": "python",
      "pygments_lexer": "ipython3",
      "version": "3.9.13"
    },
    "colab": {
      "provenance": [],
      "include_colab_link": true
    }
  },
  "nbformat": 4,
  "nbformat_minor": 5
}